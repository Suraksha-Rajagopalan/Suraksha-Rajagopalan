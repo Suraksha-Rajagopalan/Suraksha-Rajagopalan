{
 "cells": [
  {
   "cell_type": "code",
   "execution_count": 1,
   "metadata": {},
   "outputs": [],
   "source": [
    "import turtle\n",
    "s=turtle.Screen()\n",
    "t=turtle.Turtle()\n",
    "def square():\n",
    "    for i in range(4):\n",
    "        t.forward(30)\n",
    "        t.left(90)\n",
    "    t.forward(30)\n",
    "if __name__=='__main__':\n",
    "    s.setup(600,600)\n",
    "    t.speed(100)\n",
    "    for i in range(8):\n",
    "        t.up()\n",
    "        t.setpos(0,30*i)\n",
    "        t.down()\n",
    "        for j in range(8):\n",
    "            if (i+j)%2==0:\n",
    "                c='black'\n",
    "            else:\n",
    "                c='white'\n",
    "            t.fillcolor(c)\n",
    "            t.begin_fill()\n",
    "            square()\n",
    "            t.end_fill()\n",
    "        t.hideturtle()"
   ]
  },
  {
   "cell_type": "code",
   "execution_count": null,
   "metadata": {},
   "outputs": [],
   "source": []
  }
 ],
 "metadata": {
  "kernelspec": {
   "display_name": "Python 3",
   "language": "python",
   "name": "python3"
  },
  "language_info": {
   "codemirror_mode": {
    "name": "ipython",
    "version": 3
   },
   "file_extension": ".py",
   "mimetype": "text/x-python",
   "name": "python",
   "nbconvert_exporter": "python",
   "pygments_lexer": "ipython3",
   "version": "3.8.3"
  }
 },
 "nbformat": 4,
 "nbformat_minor": 4
}
