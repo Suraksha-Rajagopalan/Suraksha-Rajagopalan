{
 "cells": [
  {
   "cell_type": "code",
   "execution_count": null,
   "metadata": {},
   "outputs": [],
   "source": [
    "import cv2\n",
    "import numpy as np\n",
    "\n",
    "image=cv2.imread('download.jpg')\n",
    "\n",
    "g=cv2.cvtColor(image,cv2.COLOR_BGR2GRAY)\n",
    "g=cv2.medianBlur(g,5)\n",
    "e=cv2.adaptiveThreshold(g,255,cv2.ADAPTIVE_THRESH_MEAN_C,cv2.THRESH_BINARY,9,9)\n",
    "\n",
    "color=cv2.bilateralFilter(image,9,250,250)\n",
    "c=cv2.bitwise_and(color,color,mask=e)\n",
    "\n",
    "cv2.imshow('Image',image)\n",
    "cv2.imshow('Edges',e)\n",
    "cv2.imshow('Cartoon',c)\n",
    "cv2.waitKey(0)\n",
    "cv2.destroyAllWindows()"
   ]
  },
  {
   "cell_type": "code",
   "execution_count": null,
   "metadata": {},
   "outputs": [],
   "source": []
  }
 ],
 "metadata": {
  "kernelspec": {
   "display_name": "Python 3",
   "language": "python",
   "name": "python3"
  },
  "language_info": {
   "codemirror_mode": {
    "name": "ipython",
    "version": 3
   },
   "file_extension": ".py",
   "mimetype": "text/x-python",
   "name": "python",
   "nbconvert_exporter": "python",
   "pygments_lexer": "ipython3",
   "version": "3.8.3"
  }
 },
 "nbformat": 4,
 "nbformat_minor": 4
}
